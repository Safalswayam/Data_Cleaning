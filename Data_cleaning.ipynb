{
 "cells": [
  {
   "cell_type": "markdown",
   "id": "43b3fefc",
   "metadata": {},
   "source": [
    "# Cleaning data\n",
    "Data cleaning is the process of fixing or removing incorrect, corrupted, duplicate, or incomplete data within a dataset. Messy data leads to unreliable outcomes. Cleaning data is an essential part of data analysis"
   ]
  },
  {
   "cell_type": "code",
   "execution_count": 1,
   "id": "229026e8",
   "metadata": {},
   "outputs": [
    {
     "name": "stdout",
     "output_type": "stream",
     "text": [
      "Dataset shape: (48895, 16)\n",
      "\n",
      "Data types and missing values:\n",
      "<class 'pandas.core.frame.DataFrame'>\n",
      "RangeIndex: 48895 entries, 0 to 48894\n",
      "Data columns (total 16 columns):\n",
      " #   Column                          Non-Null Count  Dtype  \n",
      "---  ------                          --------------  -----  \n",
      " 0   id                              48895 non-null  int64  \n",
      " 1   name                            48879 non-null  object \n",
      " 2   host_id                         48895 non-null  int64  \n",
      " 3   host_name                       48874 non-null  object \n",
      " 4   neighbourhood_group             48895 non-null  object \n",
      " 5   neighbourhood                   48895 non-null  object \n",
      " 6   latitude                        48895 non-null  float64\n",
      " 7   longitude                       48895 non-null  float64\n",
      " 8   room_type                       48895 non-null  object \n",
      " 9   price                           48895 non-null  int64  \n",
      " 10  minimum_nights                  48895 non-null  int64  \n",
      " 11  number_of_reviews               48895 non-null  int64  \n",
      " 12  last_review                     38843 non-null  object \n",
      " 13  reviews_per_month               38843 non-null  float64\n",
      " 14  calculated_host_listings_count  48895 non-null  int64  \n",
      " 15  availability_365                48895 non-null  int64  \n",
      "dtypes: float64(3), int64(7), object(6)\n",
      "memory usage: 6.0+ MB\n",
      "None\n",
      "\n",
      "Summary statistics:\n",
      "                  id            name       host_id host_name  \\\n",
      "count   4.889500e+04           48879  4.889500e+04     48874   \n",
      "unique           NaN           47905           NaN     11452   \n",
      "top              NaN  Hillside Hotel           NaN   Michael   \n",
      "freq             NaN              18           NaN       417   \n",
      "mean    1.901714e+07             NaN  6.762001e+07       NaN   \n",
      "std     1.098311e+07             NaN  7.861097e+07       NaN   \n",
      "min     2.539000e+03             NaN  2.438000e+03       NaN   \n",
      "25%     9.471945e+06             NaN  7.822033e+06       NaN   \n",
      "50%     1.967728e+07             NaN  3.079382e+07       NaN   \n",
      "75%     2.915218e+07             NaN  1.074344e+08       NaN   \n",
      "max     3.648724e+07             NaN  2.743213e+08       NaN   \n",
      "\n",
      "       neighbourhood_group neighbourhood      latitude     longitude  \\\n",
      "count                48895         48895  48895.000000  48895.000000   \n",
      "unique                   5           221           NaN           NaN   \n",
      "top              Manhattan  Williamsburg           NaN           NaN   \n",
      "freq                 21661          3920           NaN           NaN   \n",
      "mean                   NaN           NaN     40.728949    -73.952170   \n",
      "std                    NaN           NaN      0.054530      0.046157   \n",
      "min                    NaN           NaN     40.499790    -74.244420   \n",
      "25%                    NaN           NaN     40.690100    -73.983070   \n",
      "50%                    NaN           NaN     40.723070    -73.955680   \n",
      "75%                    NaN           NaN     40.763115    -73.936275   \n",
      "max                    NaN           NaN     40.913060    -73.712990   \n",
      "\n",
      "              room_type         price  minimum_nights  number_of_reviews  \\\n",
      "count             48895  48895.000000    48895.000000       48895.000000   \n",
      "unique                3           NaN             NaN                NaN   \n",
      "top     Entire home/apt           NaN             NaN                NaN   \n",
      "freq              25409           NaN             NaN                NaN   \n",
      "mean                NaN    152.720687        7.029962          23.274466   \n",
      "std                 NaN    240.154170       20.510550          44.550582   \n",
      "min                 NaN      0.000000        1.000000           0.000000   \n",
      "25%                 NaN     69.000000        1.000000           1.000000   \n",
      "50%                 NaN    106.000000        3.000000           5.000000   \n",
      "75%                 NaN    175.000000        5.000000          24.000000   \n",
      "max                 NaN  10000.000000     1250.000000         629.000000   \n",
      "\n",
      "       last_review  reviews_per_month  calculated_host_listings_count  \\\n",
      "count        38843       38843.000000                    48895.000000   \n",
      "unique        1764                NaN                             NaN   \n",
      "top     2019-06-23                NaN                             NaN   \n",
      "freq          1413                NaN                             NaN   \n",
      "mean           NaN           1.373221                        7.143982   \n",
      "std            NaN           1.680442                       32.952519   \n",
      "min            NaN           0.010000                        1.000000   \n",
      "25%            NaN           0.190000                        1.000000   \n",
      "50%            NaN           0.720000                        1.000000   \n",
      "75%            NaN           2.020000                        2.000000   \n",
      "max            NaN          58.500000                      327.000000   \n",
      "\n",
      "        availability_365  \n",
      "count       48895.000000  \n",
      "unique               NaN  \n",
      "top                  NaN  \n",
      "freq                 NaN  \n",
      "mean          112.781327  \n",
      "std           131.622289  \n",
      "min             0.000000  \n",
      "25%             0.000000  \n",
      "50%            45.000000  \n",
      "75%           227.000000  \n",
      "max           365.000000  \n"
     ]
    }
   ],
   "source": [
    "import pandas as pd\n",
    "\n",
    "# Load the dataset\n",
    "df = pd.read_csv('AB_NYC_2019.csv')\n",
    "\n",
    "# Initial exploration\n",
    "print(f\"Dataset shape: {df.shape}\")\n",
    "print(\"\\nData types and missing values:\")\n",
    "print(df.info())\n",
    "print(\"\\nSummary statistics:\")\n",
    "print(df.describe(include='all'))"
   ]
  },
  {
   "cell_type": "code",
   "execution_count": 2,
   "id": "dabc0a1c",
   "metadata": {},
   "outputs": [
    {
     "name": "stdout",
     "output_type": "stream",
     "text": [
      "Missing values per column:\n",
      "name                    16\n",
      "host_name               21\n",
      "last_review          10052\n",
      "reviews_per_month    10052\n",
      "dtype: int64\n"
     ]
    },
    {
     "name": "stderr",
     "output_type": "stream",
     "text": [
      "C:\\Users\\KIIT\\AppData\\Local\\Temp\\ipykernel_12352\\2186338361.py:8: FutureWarning: A value is trying to be set on a copy of a DataFrame or Series through chained assignment using an inplace method.\n",
      "The behavior will change in pandas 3.0. This inplace method will never work because the intermediate object on which we are setting values always behaves as a copy.\n",
      "\n",
      "For example, when doing 'df[col].method(value, inplace=True)', try using 'df.method({col: value}, inplace=True)' or df[col] = df[col].method(value) instead, to perform the operation inplace on the original object.\n",
      "\n",
      "\n",
      "  df['reviews_per_month'].fillna(0, inplace=True)\n"
     ]
    }
   ],
   "source": [
    "# Check for missing values\n",
    "missing_values = df.isnull().sum()\n",
    "print(\"Missing values per column:\")\n",
    "print(missing_values[missing_values > 0])\n",
    "\n",
    "# Handle missing values in key columns\n",
    "# For reviews_per_month, fill 0 for listings with no reviews\n",
    "df['reviews_per_month'].fillna(0, inplace=True)\n",
    "\n",
    "# For last_review, leave as NaN (these listings have no reviews)\n",
    "# For name and host_name, very few missing - we can drop these rows\n",
    "df.dropna(subset=['name', 'host_name'], inplace=True)"
   ]
  },
  {
   "cell_type": "code",
   "execution_count": 3,
   "id": "ff7cf980",
   "metadata": {},
   "outputs": [
    {
     "name": "stdout",
     "output_type": "stream",
     "text": [
      "Potential duplicate listings: 0\n",
      "Duplicate IDs: 0\n"
     ]
    }
   ],
   "source": [
    "# Check for duplicate listings\n",
    "print(f\"Potential duplicate listings: {df.duplicated().sum()}\")\n",
    "\n",
    "# Check for duplicate IDs (should be unique)\n",
    "print(f\"Duplicate IDs: {df['id'].duplicated().sum()}\")\n",
    "\n",
    "# No duplicates found in this dataset"
   ]
  },
  {
   "cell_type": "code",
   "execution_count": 4,
   "id": "bce11298",
   "metadata": {},
   "outputs": [],
   "source": [
    "# Standardize text columns\n",
    "df['name'] = df['name'].str.strip()\n",
    "df['host_name'] = df['host_name'].str.strip()\n",
    "df['neighbourhood_group'] = df['neighbourhood_group'].str.strip()\n",
    "df['neighbourhood'] = df['neighbourhood'].str.strip()\n",
    "df['room_type'] = df['room_type'].str.strip()\n",
    "\n",
    "# Convert last_review to datetime\n",
    "df['last_review'] = pd.to_datetime(df['last_review'])\n",
    "\n",
    "# Standardize price (ensure no negative values)\n",
    "df = df[df['price'] >= 0]"
   ]
  },
  {
   "cell_type": "code",
   "execution_count": 5,
   "id": "2e7e5b45",
   "metadata": {},
   "outputs": [],
   "source": [
    "# Standardize text columns\n",
    "df['name'] = df['name'].str.strip()\n",
    "df['host_name'] = df['host_name'].str.strip()\n",
    "df['neighbourhood_group'] = df['neighbourhood_group'].str.strip()\n",
    "df['neighbourhood'] = df['neighbourhood'].str.strip()\n",
    "df['room_type'] = df['room_type'].str.strip()\n",
    "\n",
    "# Convert last_review to datetime\n",
    "df['last_review'] = pd.to_datetime(df['last_review'])\n",
    "\n",
    "# Standardize price (ensure no negative values)\n",
    "df = df[df['price'] >= 0]"
   ]
  },
  {
   "cell_type": "code",
   "execution_count": 6,
   "id": "11c038db",
   "metadata": {},
   "outputs": [],
   "source": [
    "# Validate latitude and longitude are within NYC bounds\n",
    "nyc_lat_range = (40.5, 40.9)\n",
    "nyc_lon_range = (-74.3, -73.7)\n",
    "\n",
    "df = df[\n",
    "    (df['latitude'].between(*nyc_lat_range)) & \n",
    "    (df['longitude'].between(*nyc_lon_range))\n",
    "]\n",
    "\n",
    "# Validate room_type has only expected values\n",
    "valid_room_types = ['Private room', 'Entire home/apt', 'Shared room']\n",
    "df = df[df['room_type'].isin(valid_room_types)]"
   ]
  },
  {
   "cell_type": "code",
   "execution_count": 7,
   "id": "a26c9f94",
   "metadata": {},
   "outputs": [],
   "source": [
    "# Create new features that might be useful for analysis\n",
    "df['has_availability'] = df['availability_365'] > 0\n",
    "df['years_hosting'] = 2019 - pd.to_datetime(df['last_review']).dt.year"
   ]
  },
  {
   "cell_type": "code",
   "execution_count": 8,
   "id": "a00ac428",
   "metadata": {},
   "outputs": [
    {
     "name": "stdout",
     "output_type": "stream",
     "text": [
      "\n",
      "Final data quality check:\n",
      "Rows: 48840\n",
      "Columns: 18\n",
      "\n",
      "Missing values:\n",
      "id                                    0\n",
      "name                                  0\n",
      "host_id                               0\n",
      "host_name                             0\n",
      "neighbourhood_group                   0\n",
      "neighbourhood                         0\n",
      "latitude                              0\n",
      "longitude                             0\n",
      "room_type                             0\n",
      "price                                 0\n",
      "minimum_nights                        0\n",
      "number_of_reviews                     0\n",
      "last_review                       10030\n",
      "reviews_per_month                     0\n",
      "calculated_host_listings_count        0\n",
      "availability_365                      0\n",
      "has_availability                      0\n",
      "years_hosting                     10030\n",
      "dtype: int64\n",
      "\n",
      "Data types:\n",
      "id                                         int64\n",
      "name                                      object\n",
      "host_id                                    int64\n",
      "host_name                                 object\n",
      "neighbourhood_group                       object\n",
      "neighbourhood                             object\n",
      "latitude                                 float64\n",
      "longitude                                float64\n",
      "room_type                                 object\n",
      "price                                      int64\n",
      "minimum_nights                             int64\n",
      "number_of_reviews                          int64\n",
      "last_review                       datetime64[ns]\n",
      "reviews_per_month                        float64\n",
      "calculated_host_listings_count             int64\n",
      "availability_365                           int64\n",
      "has_availability                            bool\n",
      "years_hosting                            float64\n",
      "dtype: object\n"
     ]
    }
   ],
   "source": [
    "print(\"\\nFinal data quality check:\")\n",
    "print(f\"Rows: {len(df)}\")\n",
    "print(f\"Columns: {len(df.columns)}\")\n",
    "print(\"\\nMissing values:\")\n",
    "print(df.isnull().sum())\n",
    "print(\"\\nData types:\")\n",
    "print(df.dtypes)"
   ]
  },
  {
   "cell_type": "code",
   "execution_count": 9,
   "id": "aeb05f6d",
   "metadata": {},
   "outputs": [
    {
     "name": "stdout",
     "output_type": "stream",
     "text": [
      "Cleaned data saved successfully!\n"
     ]
    }
   ],
   "source": [
    "# Save cleaned data to new CSV\n",
    "df.to_csv('AB_NYC_2019_cleaned.csv', index=False)\n",
    "print(\"Cleaned data saved successfully!\")"
   ]
  },
  {
   "cell_type": "code",
   "execution_count": null,
   "id": "ed7e5c86",
   "metadata": {},
   "outputs": [],
   "source": []
  }
 ],
 "metadata": {
  "kernelspec": {
   "display_name": "Python 3",
   "language": "python",
   "name": "python3"
  },
  "language_info": {
   "codemirror_mode": {
    "name": "ipython",
    "version": 3
   },
   "file_extension": ".py",
   "mimetype": "text/x-python",
   "name": "python",
   "nbconvert_exporter": "python",
   "pygments_lexer": "ipython3",
   "version": "3.12.9"
  }
 },
 "nbformat": 4,
 "nbformat_minor": 5
}
